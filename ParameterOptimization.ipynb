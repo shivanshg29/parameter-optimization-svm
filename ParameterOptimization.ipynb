{
  "nbformat": 4,
  "nbformat_minor": 0,
  "metadata": {
    "colab": {
      "provenance": [],
      "authorship_tag": "ABX9TyPp4Ks9UOF/rdGKfboEoeXh",
      "include_colab_link": true
    },
    "kernelspec": {
      "name": "python3",
      "display_name": "Python 3"
    },
    "language_info": {
      "name": "python"
    }
  },
  "cells": [
    {
      "cell_type": "markdown",
      "metadata": {
        "id": "view-in-github",
        "colab_type": "text"
      },
      "source": [
        "<a href=\"https://colab.research.google.com/github/shivanshg29/parameter-optimization-svm/blob/main/ParameterOptimization.ipynb\" target=\"_parent\"><img src=\"https://colab.research.google.com/assets/colab-badge.svg\" alt=\"Open In Colab\"/></a>"
      ]
    },
    {
      "cell_type": "code",
      "execution_count": 1,
      "metadata": {
        "id": "F9IlFiVuEDsT"
      },
      "outputs": [],
      "source": [
        "import numpy as np\n",
        "import pandas as pd\n",
        "import matplotlib.pyplot as plt\n",
        "from sklearn.datasets import load_iris\n",
        "from sklearn.model_selection import train_test_split\n",
        "from sklearn.svm import SVC\n",
        "from sklearn.preprocessing import StandardScaler\n",
        "from sklearn.metrics import accuracy_score\n",
        "import random"
      ]
    },
    {
      "cell_type": "code",
      "source": [
        "data = load_iris()\n",
        "X = data.data\n",
        "y = data.target"
      ],
      "metadata": {
        "id": "vHLS1kePEUr6"
      },
      "execution_count": 2,
      "outputs": []
    },
    {
      "cell_type": "code",
      "source": [
        "kernel_map = {\n",
        "    'rbfdot': 'rbf',\n",
        "    'polydot': 'poly',\n",
        "    'vanilladot': 'linear',\n",
        "    'tanhdot': 'sigmoid',\n",
        "    'laplacedot': 'rbf',\n",
        "    'anovadot': 'poly'\n",
        "}\n",
        "kernel_names = list(kernel_map.keys())"
      ],
      "metadata": {
        "id": "_MPE7WLCEWgc"
      },
      "execution_count": 3,
      "outputs": []
    },
    {
      "cell_type": "code",
      "source": [
        "results = []\n",
        "best_convergence = []\n",
        "overall_best_acc = -999\n",
        "overall_best_sample = -1\n",
        "\n",
        "for sample_index in range(10):\n",
        "    X_train, X_test, y_train, y_test = train_test_split(X, y, test_size=0.3, random_state=sample_index)\n",
        "    scaler = StandardScaler()\n",
        "    X_train = scaler.fit_transform(X_train)\n",
        "    X_test = scaler.transform(X_test)\n",
        "\n",
        "    best_fitness = -999\n",
        "    best_param = None\n",
        "    convergence = []\n",
        "\n",
        "    for iteration in range(100):\n",
        "        kernel_label = random.choice(kernel_names)\n",
        "        kernel = kernel_map[kernel_label]\n",
        "        C = random.uniform(0.1, 10)\n",
        "\n",
        "        try:\n",
        "            model = SVC(kernel=kernel, C=C)\n",
        "            model.fit(X_train, y_train)\n",
        "            y_pred = model.predict(X_test)\n",
        "            acc = accuracy_score(y_test, y_pred)\n",
        "        except:\n",
        "            acc = -999\n",
        "\n",
        "        if acc > best_fitness:\n",
        "            best_fitness = acc\n",
        "            best_param = (kernel_label, round(C, 2))\n",
        "\n",
        "        convergence.append(best_fitness)\n",
        "\n",
        "    results.append([f\"S{sample_index+1}\", round(best_fitness, 4), best_param])\n",
        "\n",
        "    if best_fitness > overall_best_acc:\n",
        "        overall_best_acc = best_fitness\n",
        "        overall_best_sample = sample_index\n",
        "        best_convergence = convergence\n"
      ],
      "metadata": {
        "id": "AwliHMo-Ebh8"
      },
      "execution_count": 7,
      "outputs": []
    },
    {
      "cell_type": "code",
      "source": [
        "df = pd.DataFrame(results, columns=[\"Sample #\", \"Best Accuracy\", \"Best Parameters (Kernel, C)\"])\n",
        "print(df)\n",
        "df.to_csv(\"svm_iris_classification_results.csv\", index=False)"
      ],
      "metadata": {
        "colab": {
          "base_uri": "https://localhost:8080/"
        },
        "id": "MRUXPPU4Eh-3",
        "outputId": "bbcbaa01-777a-4d23-c428-afc35993ce68"
      },
      "execution_count": 8,
      "outputs": [
        {
          "output_type": "stream",
          "name": "stdout",
          "text": [
            "  Sample #  Best Accuracy Best Parameters (Kernel, C)\n",
            "0       S1         1.0000          (laplacedot, 0.25)\n",
            "1       S2         0.9778           (vanilladot, 5.3)\n",
            "2       S3         1.0000          (vanilladot, 6.61)\n",
            "3       S4         0.9556             (anovadot, 3.7)\n",
            "4       S5         0.9778           (vanilladot, 4.8)\n",
            "5       S6         0.9778             (polydot, 5.75)\n",
            "6       S7         0.9778          (vanilladot, 8.01)\n",
            "7       S8         0.9556          (vanilladot, 6.89)\n",
            "8       S9         0.9556          (laplacedot, 1.11)\n",
            "9      S10         1.0000          (vanilladot, 9.95)\n"
          ]
        }
      ]
    },
    {
      "cell_type": "code",
      "source": [
        "plt.plot(range(1, 101), best_convergence)\n",
        "plt.xlabel(\"Iteration\")\n",
        "plt.ylabel(\"Accuracy\")\n",
        "plt.title(\"Fitness (Accuracy) - Best Sample\")\n",
        "plt.grid(True)\n",
        "plt.savefig(\"svm_iris_classification_convergence.png\")\n",
        "plt.show()"
      ],
      "metadata": {
        "colab": {
          "base_uri": "https://localhost:8080/",
          "height": 472
        },
        "id": "h7oDhZQ-EmCV",
        "outputId": "54b5dc7d-3387-4319-bd09-cb31b5730e9a"
      },
      "execution_count": 9,
      "outputs": [
        {
          "output_type": "display_data",
          "data": {
            "text/plain": [
              "<Figure size 640x480 with 1 Axes>"
            ],
            "image/png": "[encoded data removed]"
          },
          "metadata": {}
        }
      ]
    }
  ]
}